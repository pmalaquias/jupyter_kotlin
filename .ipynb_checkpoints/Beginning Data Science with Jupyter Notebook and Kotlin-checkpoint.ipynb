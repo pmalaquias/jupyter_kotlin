{
 "cells": [
  {
   "cell_type": "markdown",
   "metadata": {},
   "source": [
    "# Companion Notebook for _Beginning Data Science with Jupyter Notebook and Kotlin_\n",
    "\n",
    "This Jupyter Notebook contains all the code examples featured in the [RayWenderlich.com](https://www.raywenderlich.com/) article, [_Beginning Data Science with Jupyter Notebook and Kotlin_](https://www.raywenderlich.com/27470499-beginning-data-science-with-jupyter-notebook-and-kotlin). The article is a follow-up to [_Create Your Own Kotlin Playground (and Get a Data Science Head Start) with Jupyter Notebook_](https://www.raywenderlich.com/27470305-create-your-own-kotlin-playground-and-get-a-data-science-head-start-with-jupyter-notebook).\n",
    "\n",
    "\n",
    "## Requirements\n",
    "\n",
    "In order to use this notebook, you’ll need the following installed on your system, in this order:\n",
    "\n",
    "1. Python 3.8 or later\n",
    "2. Jupyter Notebook\n",
    "3. The Kotlin kernel for Jupyter Notebook\n",
    "\n",
    "The [Getting Started](https://www.raywenderlich.com/27470305-create-your-own-kotlin-playground-and-get-a-data-science-head-start-with-jupyter-notebook#toc-anchor-003) section of the prior article, [_Create Your Own Kotlin Playground (and Get a Data Science Head Start) with Jupyter Notebook_](https://www.raywenderlich.com/27470305-create-your-own-kotlin-playground-and-get-a-data-science-head-start-with-jupyter-notebook), shows you a way to get the above requirements quickly. In summary, the process is:\n",
    "\n",
    "1. Install Python and Jupyter Notebook by installing the [Invidividual Edition](https://www.anaconda.com/products/individual) of Anaconda Python.\n",
    "2. Install the Kotlin kernel by entering the following on the command line (this works for Linux, macOS, and Windows): \n",
    "\n",
    "```\n",
    "conda install -c jetbrains kotlin-jupyter-kernel\n",
    "```"
   ]
  },
  {
   "cell_type": "markdown",
   "metadata": {},
   "source": [
    "## Importing _krangl_\n",
    "\n",
    "The cell below imports the _krangl_ library. _krangl_ takes its name from “***K***otlin library for data [w***rangl***ing”](https://en.wikipedia.org/wiki/Wrangler_(profession)). ts design borrows heavily from two R libraries: deplyr and purrr. You’ll find krangl provides a subset of classes, methods and properties with the same or similar names as those you’ll find in these libraries. This will come in handy because there’s far more documentation and literature on those libraries than for krangl — at least for now. "
   ]
  },
  {
   "cell_type": "code",
   "execution_count": null,
   "metadata": {
    "pycharm": {
     "is_executing": true
    }
   },
   "outputs": [],
   "source": [
    "%use krangl"
   ]
  },
  {
   "cell_type": "markdown",
   "metadata": {},
   "source": [
    "## _krangl’s_ Built-In Data Frames\n",
    "\n",
    "A major obstacle faced by people who are just getting started with data science is finding good datasets — collections of data — to work with. To counter this problem, krangl provides three datasets in the form of three built-in DataFrame instances.\n",
    "\n",
    "Going from smallest to largest, these built-in data frames are:\n",
    "\n",
    "* **`sleepData`**: Data about the sleep patterns of 83 species of animal, including humans.\n",
    "* **`irisData:`**: A set of measurements of 150 flowers from different species of iris.\n",
    "* **`flightsData:`**: Over 330,000 rows of data about flights taking off from New York City airports in 2013.\n",
    "\n",
    "Most of the exercises in this notebook will use `sleepData`."
   ]
  },
  {
   "cell_type": "markdown",
   "metadata": {},
   "source": [
    "## Basic Data Operations\n",
    "\n",
    "### Getting a Data Frame’s First and Last Rows"
   ]
  },
  {
   "cell_type": "code",
   "execution_count": null,
   "metadata": {
    "pycharm": {
     "is_executing": true
    }
   },
   "outputs": [],
   "source": [
    "sleepData"
   ]
  },
  {
   "cell_type": "code",
   "execution_count": null,
   "metadata": {},
   "outputs": [],
   "source": [
    "sleepData.head()"
   ]
  },
  {
   "cell_type": "code",
   "execution_count": null,
   "metadata": {},
   "outputs": [],
   "source": [
    "val lastFew = sleepData.tail()\n",
    "lastFew"
   ]
  },
  {
   "cell_type": "markdown",
   "metadata": {},
   "source": [
    "### Extracting a `slice()` from the Data Frame"
   ]
  },
  {
   "cell_type": "code",
   "execution_count": null,
   "metadata": {},
   "outputs": [],
   "source": [
    "val selection = sleepData.slice(30..34)\n",
    "selection"
   ]
  },
  {
   "cell_type": "markdown",
   "metadata": {},
   "source": [
    "### `slice()` Indexes Start at 1, not 0"
   ]
  },
  {
   "cell_type": "code",
   "execution_count": null,
   "metadata": {},
   "outputs": [],
   "source": [
    "sleepData.rows.elementAt(0)"
   ]
  },
  {
   "cell_type": "code",
   "execution_count": null,
   "metadata": {},
   "outputs": [],
   "source": [
    "sleepData.slice(0..0)"
   ]
  },
  {
   "cell_type": "code",
   "execution_count": null,
   "metadata": {},
   "outputs": [],
   "source": [
    "sleepData.slice(1..1)"
   ]
  },
  {
   "cell_type": "code",
   "execution_count": null,
   "metadata": {},
   "outputs": [],
   "source": [
    "sleepData.slice(1..2)"
   ]
  },
  {
   "cell_type": "markdown",
   "metadata": {},
   "source": [
    "## Sorting"
   ]
  },
  {
   "cell_type": "code",
   "execution_count": null,
   "metadata": {},
   "outputs": [],
   "source": [
    "sleepData.sortedBy(\"sleep_total\")"
   ]
  },
  {
   "cell_type": "code",
   "execution_count": null,
   "metadata": {},
   "outputs": [],
   "source": [
    "sleepData.sortedBy(\"sleep_total\").slice(10..15)"
   ]
  },
  {
   "cell_type": "code",
   "execution_count": null,
   "metadata": {},
   "outputs": [],
   "source": [
    "sleepData.sortedBy(\"sleep_total\").slice(16..20)"
   ]
  },
  {
   "cell_type": "code",
   "execution_count": null,
   "metadata": {},
   "outputs": [],
   "source": [
    "sleepData.sortedBy(\"sleep_total\", \"bodywt\")"
   ]
  },
  {
   "cell_type": "code",
   "execution_count": null,
   "metadata": {},
   "outputs": [],
   "source": [
    "sleepData.sortedByDescending(\"sleep_total\")"
   ]
  },
  {
   "cell_type": "markdown",
   "metadata": {},
   "source": [
    "## Filtering"
   ]
  },
  {
   "cell_type": "code",
   "execution_count": null,
   "metadata": {},
   "outputs": [],
   "source": [
    "val herbivores = sleepData.filter { it[\"vore\"] isEqualTo \"herbi\" }\n",
    "println(\"This dataset has ${herbivores.nrow} herbivores.\")\n",
    "herbivores"
   ]
  },
  {
   "cell_type": "code",
   "execution_count": null,
   "metadata": {},
   "outputs": [],
   "source": [
    "val heavyHerbivores = herbivores.filter { it[\"bodywt\"] ge 200 }\n",
    "heavyHerbivores"
   ]
  },
  {
   "cell_type": "markdown",
   "metadata": {},
   "source": [
    "### Filtering With Negation"
   ]
  },
  {
   "cell_type": "code",
   "execution_count": null,
   "metadata": {},
   "outputs": [],
   "source": [
    "val nonHerbivores = sleepData.filter { (it[\"vore\"] eq \"herbi\").not() }\n",
    "nonHerbivores"
   ]
  },
  {
   "cell_type": "markdown",
   "metadata": {},
   "source": [
    "### Filtering With Multiple Criteria"
   ]
  },
  {
   "cell_type": "code",
   "execution_count": null,
   "metadata": {},
   "outputs": [],
   "source": [
    "val alsoHeavyHerbivores = sleepData\n",
    "    .filter { \n",
    "        (it[\"vore\"] eq \"herbi\") AND \n",
    "        (it[\"bodywt\"] gt 30)\n",
    "    }\n",
    "alsoHeavyHerbivores"
   ]
  },
  {
   "cell_type": "markdown",
   "metadata": {},
   "source": [
    "### Fancier Text Filtering"
   ]
  },
  {
   "cell_type": "code",
   "execution_count": null,
   "metadata": {},
   "outputs": [],
   "source": [
    "val monkeys = sleepData.filter { it[\"name\"].isMatching<String> { contains(\"monkey\") } } \n",
    "monkeys"
   ]
  },
  {
   "cell_type": "markdown",
   "metadata": {},
   "source": [
    "## Removing Columns"
   ]
  },
  {
   "cell_type": "code",
   "execution_count": null,
   "metadata": {},
   "outputs": [],
   "source": [
    "val simplifiedSleepData = sleepData.select(\"name\", \"vore\", \"sleep_total\", \"sleep_rem\")\n",
    "simplifiedSleepData"
   ]
  },
  {
   "cell_type": "code",
   "execution_count": null,
   "metadata": {},
   "outputs": [],
   "source": [
    "val evenSimplerSleepData = simplifiedSleepData.remove(\"sleep_rem\")\n",
    "evenSimplerSleepData"
   ]
  },
  {
   "cell_type": "markdown",
   "metadata": {},
   "source": [
    "## More Complex Data Operations\n",
    "\n",
    "### Calculating Column Statistics"
   ]
  },
  {
   "cell_type": "code",
   "execution_count": null,
   "metadata": {},
   "outputs": [],
   "source": [
    "val sleepCol = sleepData[\"sleep_total\"]\n",
    "println(\"The mean sleep period is ${sleepCol.mean(removeNA=true)} hours.\")\n",
    "println(\"The median sleep period is ${sleepCol.median(removeNA=true)} hours.\")\n",
    "println(\"The standard deviation for the sleep periods is ${sleepCol.sd(removeNA=true)} hours.\")\n",
    "println(\"The shortest sleep period is ${sleepCol.min(removeNA=true)} hours.\")\n",
    "println(\"The longest sleep period is ${sleepCol.max(removeNA=true)} hours.\")"
   ]
  },
  {
   "cell_type": "markdown",
   "metadata": {},
   "source": [
    "### Grouping"
   ]
  },
  {
   "cell_type": "code",
   "execution_count": null,
   "metadata": {},
   "outputs": [],
   "source": [
    "val groupedData = sleepData.groupBy(\"vore\")"
   ]
  },
  {
   "cell_type": "code",
   "execution_count": null,
   "metadata": {},
   "outputs": [],
   "source": [
    "groupedData"
   ]
  },
  {
   "cell_type": "code",
   "execution_count": null,
   "metadata": {},
   "outputs": [],
   "source": [
    "groupedData.groups()"
   ]
  },
  {
   "cell_type": "code",
   "execution_count": null,
   "metadata": {},
   "outputs": [],
   "source": [
    "groupedData.count()"
   ]
  },
  {
   "cell_type": "code",
   "execution_count": null,
   "metadata": {},
   "outputs": [],
   "source": [
    "val sortedGroupedData = groupedData.sortedBy(\"name\")\n",
    "sortedGroupedData.groups()"
   ]
  },
  {
   "cell_type": "markdown",
   "metadata": {},
   "source": [
    "## Summarizing"
   ]
  },
  {
   "cell_type": "code",
   "execution_count": null,
   "metadata": {},
   "outputs": [],
   "source": [
    "groupedData\n",
    "    .summarize(\n",
    "        \"Mean daily total sleep (hours)\" to { it[\"sleep_total\"].mean(removeNA=true) },\n",
    "        \"Mean daily REM sleep (hours)\" to { it[\"sleep_rem\"].mean(removeNA=true) }\n",
    "    )"
   ]
  },
  {
   "cell_type": "code",
   "execution_count": null,
   "metadata": {},
   "outputs": [],
   "source": [
    "groupedData\n",
    "    .summarize(\n",
    "        \"Mean daily total sleep (hours)\" to { it[\"sleep_total\"].mean(removeNA=true) },\n",
    "        \"Mean daily REM sleep (hours)\" to { it[\"sleep_rem\"].mean(removeNA=true) }\n",
    "    )\n",
    "    .sortedBy(\"Mean daily total sleep (hours)\")"
   ]
  },
  {
   "cell_type": "markdown",
   "metadata": {},
   "source": [
    "## Importing Data\n",
    "\n",
    "### Reading .csv Data"
   ]
  },
  {
   "cell_type": "code",
   "execution_count": null,
   "metadata": {},
   "outputs": [],
   "source": [
    "val ramenRatings = DataFrame.readCSV(\"https://koenig-media.raywenderlich.com/uploads/2021/07/ramen-ratings.csv\")\n",
    "ramenRatings"
   ]
  },
  {
   "cell_type": "markdown",
   "metadata": {},
   "source": [
    "### Reading .tsv Data"
   ]
  },
  {
   "cell_type": "code",
   "execution_count": null,
   "metadata": {},
   "outputs": [],
   "source": [
    "val restaurantReviews = DataFrame.readTSV(\"https://koenig-media.raywenderlich.com/uploads/2021/07/restaurant-reviews.tsv\")\n",
    "restaurantReviews"
   ]
  },
  {
   "cell_type": "code",
   "execution_count": null,
   "metadata": {},
   "outputs": [],
   "source": []
  }
 ],
 "metadata": {
  "kernelspec": {
   "display_name": "Python 3.9.12 ('base')",
   "language": "python",
   "name": "python3"
  },
  "language_info": {
   "codemirror_mode": "text/x-kotlin",
   "file_extension": ".kt",
   "mimetype": "text/x-kotlin",
   "name": "python",
   "nbconvert_exporter": "",
   "pygments_lexer": "kotlin",
   "version": "3.9.12"
  },
  "vscode": {
   "interpreter": {
    "hash": "f8bb43756a0f964b5731518af792907b702afd8903f5f688872cea8facc28963"
   }
  }
 },
 "nbformat": 4,
 "nbformat_minor": 4
}
